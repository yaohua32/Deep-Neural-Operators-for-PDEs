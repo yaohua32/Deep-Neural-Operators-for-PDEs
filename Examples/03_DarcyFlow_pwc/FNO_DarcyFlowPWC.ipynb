{
 "cells": [
  {
   "cell_type": "markdown",
   "id": "e4363d1b-e7d8-4867-bff1-8cf81109f152",
   "metadata": {},
   "source": [
    "## The Darcy's equation\n",
    "\n",
    "We consider the following Darcy flows in a 2D area filled with porous materials. The governing PDE is \n",
    "$$\n",
    "-\\nabla( K(x,y) \\nabla P(x,y)) = f(x,y), \\quad x\\in\\Omega\n",
    "$$  \n",
    "where $K$ is the permeability field, $P$ is the pressure, and $f$ is a source term which can be either a constant or a space-dependent function.\n",
    "### (1.1) Neural Operator learning problem\n",
    "\n",
    "The first example of Darcy flow is defined in a rectangular domain $\\Omega=[0,1]^2$ with zero Dirichlet boundary condition. We are interested in learning the mapping from the permeability field $K(x,y)$ to the pressure field $P(x,y)$, i.e.,\n",
    "$$\n",
    "\\mathcal{G}: K(x,y) \\rightarrow P(x,y)\n",
    "$$"
   ]
  },
  {
   "cell_type": "markdown",
   "id": "e638cef5-c3be-42bb-9ad7-3ca58da9be74",
   "metadata": {},
   "source": [
    "## (2) The Fourier Neural Operator method"
   ]
  },
  {
   "cell_type": "markdown",
   "id": "ee77b795-6ead-48f2-927a-9c082486c635",
   "metadata": {},
   "source": [
    "### (2.1) Prepare data"
   ]
  },
  {
   "cell_type": "code",
   "execution_count": 1,
   "id": "4811919f-668b-4057-96bc-8536ea2b3197",
   "metadata": {},
   "outputs": [
    {
     "name": "stdout",
     "output_type": "stream",
     "text": [
      "<KeysViewHDF5 ['X', 'Y', 'coeff', 'sol_fdm', 'sol_fem']>\n",
      "<KeysViewHDF5 ['X', 'Y', 'coeff', 'sol_fdm', 'sol_fem']>\n",
      "The shape of ax_train: torch.Size([1000, 29, 29, 3])\n",
      "The shape of u_train: torch.Size([1000, 29, 29, 1])\n",
      "The shape of grid_train: torch.Size([841, 2])\n",
      "The shape of ax_test: torch.Size([20, 29, 29, 3])\n",
      "The shape of u_test: torch.Size([20, 29, 29, 1])\n",
      "The shape of grid_test: torch.Size([841, 2])\n"
     ]
    }
   ],
   "source": [
    "import sys \n",
    "sys.path.append(\"../..\") \n",
    "import numpy as np\n",
    "import h5py\n",
    "import torch \n",
    "import matplotlib.pyplot as plt\n",
    "#\n",
    "def setup_seed(seed):\n",
    "     torch.manual_seed(seed)\n",
    "     torch.cuda.manual_seed_all(seed)\n",
    "     np.random.seed(seed)\n",
    "     torch.backends.cudnn.deterministic = True\n",
    "# 设置随机数种子\n",
    "random_seed = 1234\n",
    "setup_seed(random_seed)\n",
    "device = 'cuda:0'\n",
    "dtype = torch.float32\n",
    "problem_name = 'DarcyFlow_pwc'\n",
    "######################################\n",
    "# Load training data\n",
    "######################################\n",
    "data_train = h5py.File('../../Problems/DarcyFlow_2d/pwc_train.mat', 'r')\n",
    "data_test = h5py.File('../../Problems/DarcyFlow_2d/pwc_test_in.mat', 'r')\n",
    "print(data_train.keys())\n",
    "print(data_test.keys())\n",
    "######################################\n",
    "from Utils.utils import *\n",
    "n_train, n_test = 1000, 20\n",
    "#\n",
    "def get_data(data, ndata, dtype, res_coe=29, res_test=29*5, n0=0):\n",
    "    a = np2tensor(np.array(data[\"coeff\"][...,n0:n0+ndata]).T, dtype)\n",
    "    a[a==1.] = 10.; a[a==0.] = 5.;\n",
    "    u = np2tensor(np.array(data[\"sol_fem\"][...,n0:n0+ndata]).T, dtype)\n",
    "    #\n",
    "    X_coe, Y_coe = np.array(data['X']).T, np.array(data['Y']).T\n",
    "    mesh = np2tensor(np.vstack([X_coe.ravel(), Y_coe.ravel()]).T, dtype)\n",
    "    gridx = mesh.reshape(1, res_coe, res_coe, 2)\n",
    "    #\n",
    "    ax = torch.cat([a.reshape(ndata, res_coe, res_coe,1), gridx.repeat(ndata, 1, 1, 1)], dim=-1)\n",
    "    try:\n",
    "        u = u.reshape(ndata, res_coe, res_coe, 1)\n",
    "    except:\n",
    "        X_sol, Y_sol = np.array(data['X_sol']).T, np.array(data['Y_sol']).T\n",
    "        mesh = np2tensor(np.vstack([X_sol.ravel(), Y_sol.ravel()]).T, dtype)\n",
    "        gridx = mesh.reshape(1, res_test, res_test, 2)\n",
    "        #\n",
    "        u = u.reshape(ndata, res_test, res_test, 1)\n",
    "    \n",
    "    return ax, u, gridx.reshape(-1,2)\n",
    "#\n",
    "ax_train, u_train, grid_train = get_data(data_train, n_train, dtype)\n",
    "ax_test, u_test, grid_test = get_data(data_test, n_test, dtype)\n",
    "#\n",
    "print('The shape of ax_train:', ax_train.shape)\n",
    "print('The shape of u_train:', u_train.shape)\n",
    "print('The shape of grid_train:', grid_train.shape)\n",
    "print('The shape of ax_test:', ax_test.shape)\n",
    "print('The shape of u_test:', u_test.shape)\n",
    "print('The shape of grid_test:', grid_test.shape)"
   ]
  },
  {
   "cell_type": "markdown",
   "id": "1a1bf6cf-d414-4060-91cc-1b3eef224542",
   "metadata": {},
   "source": [
    "### (2.2) Define the loss class"
   ]
  },
  {
   "cell_type": "code",
   "execution_count": 2,
   "id": "24f8835a-629c-4625-9a5f-b0d7df852dcf",
   "metadata": {},
   "outputs": [
    {
     "name": "stdout",
     "output_type": "stream",
     "text": [
      "4,743,937 training parameters.\n"
     ]
    }
   ],
   "source": [
    "###############################\n",
    "# Set normalizer\n",
    "###############################\n",
    "from Utils.Normalizer import *\n",
    "normalizer_ax = UnitGaussianNormalizer(ax_train.to(device))\n",
    "normalizer_u = UnitGaussianNormalizer(u_train.to(device))\n",
    "\n",
    "###############################\n",
    "# Define Loss Class\n",
    "###############################\n",
    "class LossClass(object):\n",
    "\n",
    "    def __init__(self, solver):\n",
    "        super(LossClass, self).__init__()\n",
    "        ''' '''\n",
    "        self.solver = solver\n",
    "        self.dtype = solver.dtype\n",
    "        self.device = solver.device\n",
    "        self.model_u = solver.model_dict['u']\n",
    "\n",
    "    def Loss_data(self, ax, u):\n",
    "        ''' '''\n",
    "        ax_norm = normalizer_ax.encode(ax)\n",
    "        u_pred_norm = self.model_u(ax_norm)\n",
    "        #\n",
    "        try: \n",
    "            u_norm = normalizer_u.encode(u)\n",
    "            return self.solver.getLoss(u_pred_norm, u_norm)\n",
    "        except:\n",
    "            return torch.tensor(0.)\n",
    "        \n",
    "        return loss\n",
    "\n",
    "    def Error(self, ax, u):\n",
    "        ''' '''\n",
    "        ax_norm = normalizer_ax.encode(ax)\n",
    "        u_pred_norm = self.model_u(ax_norm)\n",
    "        #\n",
    "        try: \n",
    "            u_norm = normalizer_u.encode(u)\n",
    "            return self.solver.getError(u_pred_norm, u_norm)\n",
    "        except:\n",
    "            return torch.tensor(0.)\n",
    "\n",
    "######################################\n",
    "# Steups of the model and training \n",
    "######################################\n",
    "from Solvers.FNO import FNO\n",
    "solver = FNO.Solver(device, dtype)\n",
    "netType = 'FNO2d'\n",
    "model_u = solver.getModel(in_size=3, out_size=1, modes=[12, 12], hidden_list=[64]*4, \n",
    "                          activation='ReLU', netType='FNO2d')\n",
    "######################################\n",
    "total_trainable_params_u = sum(p.numel() for p in model_u.parameters() if p.requires_grad)\n",
    "print(f'{total_trainable_params_u:,} training parameters.')"
   ]
  },
  {
   "cell_type": "markdown",
   "id": "619676b4-99c6-40bf-bda9-c86cfc66876f",
   "metadata": {},
   "source": [
    "### (2.3) training and make prediction"
   ]
  },
  {
   "cell_type": "markdown",
   "id": "888965ee-f82d-4e0d-8740-1f4d2c83ffd4",
   "metadata": {},
   "source": [
    "#### (2.3.1) train the model"
   ]
  },
  {
   "cell_type": "code",
   "execution_count": 3,
   "id": "af1a7349-c530-47bf-9ef1-4db179e13e94",
   "metadata": {},
   "outputs": [
    {
     "name": "stderr",
     "output_type": "stream",
     "text": [
      "  1%|▊                                                                               | 10/1000 [00:02<03:46,  4.38it/s]"
     ]
    },
    {
     "name": "stdout",
     "output_type": "stream",
     "text": [
      "Epoch:10 Time:2.7686, loss_train:1.880273, loss_test:1.927391\n",
      "          lr: 0.001 err_test 0.07370468229055405\n"
     ]
    },
    {
     "name": "stderr",
     "output_type": "stream",
     "text": [
      "  2%|█▌                                                                              | 20/1000 [00:04<02:54,  5.60it/s]"
     ]
    },
    {
     "name": "stdout",
     "output_type": "stream",
     "text": [
      "Epoch:20 Time:4.6333, loss_train:1.052608, loss_test:1.023420\n",
      "          lr: 0.001 err_test 0.039475392550230026\n"
     ]
    },
    {
     "name": "stderr",
     "output_type": "stream",
     "text": [
      "  3%|██▍                                                                             | 30/1000 [00:06<02:28,  6.52it/s]"
     ]
    },
    {
     "name": "stdout",
     "output_type": "stream",
     "text": [
      "Epoch:30 Time:6.3381, loss_train:1.002155, loss_test:0.806491\n",
      "          lr: 0.001 err_test 0.031183717772364616\n"
     ]
    },
    {
     "name": "stderr",
     "output_type": "stream",
     "text": [
      "  4%|███▎                                                                            | 41/1000 [00:08<02:31,  6.33it/s]"
     ]
    },
    {
     "name": "stdout",
     "output_type": "stream",
     "text": [
      "Epoch:40 Time:8.0604, loss_train:0.797307, loss_test:0.856781\n",
      "          lr: 0.001 err_test 0.03296223282814026\n"
     ]
    },
    {
     "name": "stderr",
     "output_type": "stream",
     "text": [
      "  5%|████                                                                            | 51/1000 [00:09<02:21,  6.70it/s]"
     ]
    },
    {
     "name": "stdout",
     "output_type": "stream",
     "text": [
      "Epoch:50 Time:9.5933, loss_train:0.732097, loss_test:0.900666\n",
      "          lr: 0.001 err_test 0.034706469625234604\n"
     ]
    },
    {
     "name": "stderr",
     "output_type": "stream",
     "text": [
      "  6%|████▉                                                                           | 61/1000 [00:11<02:29,  6.29it/s]"
     ]
    },
    {
     "name": "stdout",
     "output_type": "stream",
     "text": [
      "Epoch:60 Time:11.1395, loss_train:0.688416, loss_test:0.628349\n",
      "          lr: 0.001 err_test 0.02412216179072857\n"
     ]
    },
    {
     "name": "stderr",
     "output_type": "stream",
     "text": [
      "  7%|█████▋                                                                          | 71/1000 [00:12<02:37,  5.91it/s]"
     ]
    },
    {
     "name": "stdout",
     "output_type": "stream",
     "text": [
      "Epoch:70 Time:12.7574, loss_train:0.659478, loss_test:0.520537\n",
      "          lr: 0.001 err_test 0.020138083025813103\n"
     ]
    },
    {
     "name": "stderr",
     "output_type": "stream",
     "text": [
      "  8%|██████▍                                                                         | 81/1000 [00:14<02:15,  6.79it/s]"
     ]
    },
    {
     "name": "stdout",
     "output_type": "stream",
     "text": [
      "Epoch:80 Time:14.2474, loss_train:0.650757, loss_test:0.549721\n",
      "          lr: 0.001 err_test 0.02111429162323475\n"
     ]
    },
    {
     "name": "stderr",
     "output_type": "stream",
     "text": [
      "  9%|███████▎                                                                        | 91/1000 [00:15<02:15,  6.73it/s]"
     ]
    },
    {
     "name": "stdout",
     "output_type": "stream",
     "text": [
      "Epoch:90 Time:15.8031, loss_train:0.659328, loss_test:0.552401\n",
      "          lr: 0.001 err_test 0.021142924204468727\n"
     ]
    },
    {
     "name": "stderr",
     "output_type": "stream",
     "text": [
      " 10%|███████▉                                                                       | 101/1000 [00:17<02:11,  6.83it/s]"
     ]
    },
    {
     "name": "stdout",
     "output_type": "stream",
     "text": [
      "Epoch:100 Time:17.2680, loss_train:0.830140, loss_test:0.728766\n",
      "          lr: 0.001 err_test 0.02855301834642887\n"
     ]
    },
    {
     "name": "stderr",
     "output_type": "stream",
     "text": [
      " 11%|████████▊                                                                      | 111/1000 [00:18<02:10,  6.82it/s]"
     ]
    },
    {
     "name": "stdout",
     "output_type": "stream",
     "text": [
      "Epoch:110 Time:18.7344, loss_train:0.989583, loss_test:0.874681\n",
      "          lr: 0.001 err_test 0.033850982785224915\n"
     ]
    },
    {
     "name": "stderr",
     "output_type": "stream",
     "text": [
      " 12%|█████████▌                                                                     | 121/1000 [00:20<02:25,  6.03it/s]"
     ]
    },
    {
     "name": "stdout",
     "output_type": "stream",
     "text": [
      "Epoch:120 Time:20.3765, loss_train:0.547566, loss_test:0.551799\n",
      "          lr: 0.001 err_test 0.021291768178343773\n"
     ]
    },
    {
     "name": "stderr",
     "output_type": "stream",
     "text": [
      " 13%|██████████▎                                                                    | 131/1000 [00:21<02:07,  6.80it/s]"
     ]
    },
    {
     "name": "stdout",
     "output_type": "stream",
     "text": [
      "Epoch:130 Time:21.8427, loss_train:0.562436, loss_test:0.503463\n",
      "          lr: 0.001 err_test 0.019360706210136414\n"
     ]
    },
    {
     "name": "stderr",
     "output_type": "stream",
     "text": [
      " 14%|███████████▏                                                                   | 141/1000 [00:23<02:05,  6.82it/s]"
     ]
    },
    {
     "name": "stdout",
     "output_type": "stream",
     "text": [
      "Epoch:140 Time:23.3075, loss_train:0.594949, loss_test:0.553088\n",
      "          lr: 0.001 err_test 0.021432433277368546\n"
     ]
    },
    {
     "name": "stderr",
     "output_type": "stream",
     "text": [
      " 15%|███████████▉                                                                   | 151/1000 [00:24<02:04,  6.84it/s]"
     ]
    },
    {
     "name": "stdout",
     "output_type": "stream",
     "text": [
      "Epoch:150 Time:24.7724, loss_train:0.626140, loss_test:0.543868\n",
      "          lr: 0.001 err_test 0.021156679838895798\n"
     ]
    },
    {
     "name": "stderr",
     "output_type": "stream",
     "text": [
      " 16%|████████████▋                                                                  | 161/1000 [00:26<02:02,  6.84it/s]"
     ]
    },
    {
     "name": "stdout",
     "output_type": "stream",
     "text": [
      "Epoch:160 Time:26.2372, loss_train:0.572552, loss_test:0.494334\n",
      "          lr: 0.001 err_test 0.01876118779182434\n"
     ]
    },
    {
     "name": "stderr",
     "output_type": "stream",
     "text": [
      " 17%|█████████████▌                                                                 | 171/1000 [00:27<02:01,  6.82it/s]"
     ]
    },
    {
     "name": "stdout",
     "output_type": "stream",
     "text": [
      "Epoch:170 Time:27.7018, loss_train:0.674074, loss_test:0.608790\n",
      "          lr: 0.001 err_test 0.023392127826809883\n"
     ]
    },
    {
     "name": "stderr",
     "output_type": "stream",
     "text": [
      " 18%|██████████████▎                                                                | 181/1000 [00:29<02:00,  6.82it/s]"
     ]
    },
    {
     "name": "stdout",
     "output_type": "stream",
     "text": [
      "Epoch:180 Time:29.1706, loss_train:0.630622, loss_test:0.537280\n",
      "          lr: 0.001 err_test 0.02076401375234127\n"
     ]
    },
    {
     "name": "stderr",
     "output_type": "stream",
     "text": [
      " 19%|███████████████                                                                | 191/1000 [00:30<01:58,  6.82it/s]"
     ]
    },
    {
     "name": "stdout",
     "output_type": "stream",
     "text": [
      "Epoch:190 Time:30.6354, loss_train:0.526851, loss_test:0.698758\n",
      "          lr: 0.001 err_test 0.02695927955210209\n"
     ]
    },
    {
     "name": "stderr",
     "output_type": "stream",
     "text": [
      " 20%|███████████████▊                                                               | 200/1000 [00:32<01:57,  6.82it/s]"
     ]
    },
    {
     "name": "stdout",
     "output_type": "stream",
     "text": [
      "Epoch:200 Time:32.0994, loss_train:0.520679, loss_test:0.466437\n",
      "          lr: 0.0005 err_test 0.017938286066055298\n"
     ]
    },
    {
     "name": "stderr",
     "output_type": "stream",
     "text": [
      " 21%|████████████████▋                                                              | 211/1000 [00:34<02:06,  6.22it/s]"
     ]
    },
    {
     "name": "stdout",
     "output_type": "stream",
     "text": [
      "Epoch:210 Time:33.9930, loss_train:0.281004, loss_test:0.325684\n",
      "          lr: 0.0005 err_test 0.012574818916618824\n"
     ]
    },
    {
     "name": "stderr",
     "output_type": "stream",
     "text": [
      " 22%|█████████████████▍                                                             | 221/1000 [00:35<01:56,  6.68it/s]"
     ]
    },
    {
     "name": "stdout",
     "output_type": "stream",
     "text": [
      "Epoch:220 Time:35.5237, loss_train:0.314037, loss_test:0.292307\n",
      "          lr: 0.0005 err_test 0.01121972780674696\n"
     ]
    },
    {
     "name": "stderr",
     "output_type": "stream",
     "text": [
      " 23%|██████████████████▏                                                            | 231/1000 [00:37<01:52,  6.83it/s]"
     ]
    },
    {
     "name": "stdout",
     "output_type": "stream",
     "text": [
      "Epoch:230 Time:36.9885, loss_train:0.311252, loss_test:0.336238\n",
      "          lr: 0.0005 err_test 0.012994945049285889\n"
     ]
    },
    {
     "name": "stderr",
     "output_type": "stream",
     "text": [
      " 24%|███████████████████                                                            | 241/1000 [00:38<01:51,  6.84it/s]"
     ]
    },
    {
     "name": "stdout",
     "output_type": "stream",
     "text": [
      "Epoch:240 Time:38.4513, loss_train:0.279843, loss_test:0.260276\n",
      "          lr: 0.0005 err_test 0.010163669474422932\n"
     ]
    },
    {
     "name": "stderr",
     "output_type": "stream",
     "text": [
      " 25%|███████████████████▊                                                           | 251/1000 [00:40<02:03,  6.05it/s]"
     ]
    },
    {
     "name": "stdout",
     "output_type": "stream",
     "text": [
      "Epoch:250 Time:39.9858, loss_train:0.301989, loss_test:0.230537\n",
      "          lr: 0.0005 err_test 0.008866819553077221\n"
     ]
    },
    {
     "name": "stderr",
     "output_type": "stream",
     "text": [
      " 26%|████████████████████▌                                                          | 261/1000 [00:41<01:48,  6.81it/s]"
     ]
    },
    {
     "name": "stdout",
     "output_type": "stream",
     "text": [
      "Epoch:260 Time:41.4633, loss_train:0.290302, loss_test:0.292257\n",
      "          lr: 0.0005 err_test 0.011243785731494427\n"
     ]
    },
    {
     "name": "stderr",
     "output_type": "stream",
     "text": [
      " 27%|█████████████████████▍                                                         | 271/1000 [00:43<01:46,  6.84it/s]"
     ]
    },
    {
     "name": "stdout",
     "output_type": "stream",
     "text": [
      "Epoch:270 Time:42.9260, loss_train:0.291157, loss_test:0.283572\n",
      "          lr: 0.0005 err_test 0.010957845486700535\n"
     ]
    },
    {
     "name": "stderr",
     "output_type": "stream",
     "text": [
      " 28%|██████████████████████▏                                                        | 281/1000 [00:44<01:45,  6.84it/s]"
     ]
    },
    {
     "name": "stdout",
     "output_type": "stream",
     "text": [
      "Epoch:280 Time:44.3886, loss_train:0.329174, loss_test:0.368063\n",
      "          lr: 0.0005 err_test 0.013924730010330677\n"
     ]
    },
    {
     "name": "stderr",
     "output_type": "stream",
     "text": [
      " 29%|██████████████████████▉                                                        | 291/1000 [00:45<01:43,  6.83it/s]"
     ]
    },
    {
     "name": "stdout",
     "output_type": "stream",
     "text": [
      "Epoch:290 Time:45.8535, loss_train:0.291344, loss_test:0.269707\n",
      "          lr: 0.0005 err_test 0.010507620871067047\n"
     ]
    },
    {
     "name": "stderr",
     "output_type": "stream",
     "text": [
      " 30%|███████████████████████▊                                                       | 301/1000 [00:47<01:42,  6.83it/s]"
     ]
    },
    {
     "name": "stdout",
     "output_type": "stream",
     "text": [
      "Epoch:300 Time:47.3173, loss_train:0.284539, loss_test:0.391872\n",
      "          lr: 0.0005 err_test 0.015101330354809761\n"
     ]
    },
    {
     "name": "stderr",
     "output_type": "stream",
     "text": [
      " 31%|████████████████████████▌                                                      | 311/1000 [00:48<01:40,  6.83it/s]"
     ]
    },
    {
     "name": "stdout",
     "output_type": "stream",
     "text": [
      "Epoch:310 Time:48.7821, loss_train:0.386659, loss_test:0.340040\n",
      "          lr: 0.0005 err_test 0.013283746317029\n"
     ]
    },
    {
     "name": "stderr",
     "output_type": "stream",
     "text": [
      " 32%|█████████████████████████▎                                                     | 321/1000 [00:50<01:40,  6.79it/s]"
     ]
    },
    {
     "name": "stdout",
     "output_type": "stream",
     "text": [
      "Epoch:320 Time:50.2458, loss_train:0.280032, loss_test:0.283807\n",
      "          lr: 0.0005 err_test 0.011038938537240028\n"
     ]
    },
    {
     "name": "stderr",
     "output_type": "stream",
     "text": [
      " 33%|██████████████████████████▏                                                    | 331/1000 [00:51<01:37,  6.83it/s]"
     ]
    },
    {
     "name": "stdout",
     "output_type": "stream",
     "text": [
      "Epoch:330 Time:51.7127, loss_train:0.302888, loss_test:0.337881\n",
      "          lr: 0.0005 err_test 0.012938523665070534\n"
     ]
    },
    {
     "name": "stderr",
     "output_type": "stream",
     "text": [
      " 34%|██████████████████████████▉                                                    | 341/1000 [00:53<01:36,  6.83it/s]"
     ]
    },
    {
     "name": "stdout",
     "output_type": "stream",
     "text": [
      "Epoch:340 Time:53.1774, loss_train:0.288500, loss_test:0.298880\n",
      "          lr: 0.0005 err_test 0.01143240462988615\n"
     ]
    },
    {
     "name": "stderr",
     "output_type": "stream",
     "text": [
      " 35%|███████████████████████████▋                                                   | 350/1000 [00:54<01:35,  6.83it/s]"
     ]
    },
    {
     "name": "stdout",
     "output_type": "stream",
     "text": [
      "Epoch:350 Time:54.6412, loss_train:0.275596, loss_test:0.278251\n",
      "          lr: 0.0005 err_test 0.010675228200852871\n"
     ]
    },
    {
     "name": "stderr",
     "output_type": "stream",
     "text": [
      " 36%|████████████████████████████▌                                                  | 361/1000 [00:56<01:34,  6.77it/s]"
     ]
    },
    {
     "name": "stdout",
     "output_type": "stream",
     "text": [
      "Epoch:360 Time:56.2002, loss_train:0.303513, loss_test:0.267427\n",
      "          lr: 0.0005 err_test 0.010350021533668041\n"
     ]
    },
    {
     "name": "stderr",
     "output_type": "stream",
     "text": [
      " 37%|█████████████████████████████▎                                                 | 371/1000 [00:57<01:32,  6.84it/s]"
     ]
    },
    {
     "name": "stdout",
     "output_type": "stream",
     "text": [
      "Epoch:370 Time:57.6640, loss_train:0.334877, loss_test:0.300896\n",
      "          lr: 0.0005 err_test 0.01161919068545103\n"
     ]
    },
    {
     "name": "stderr",
     "output_type": "stream",
     "text": [
      " 38%|██████████████████████████████                                                 | 381/1000 [00:59<01:30,  6.84it/s]"
     ]
    },
    {
     "name": "stdout",
     "output_type": "stream",
     "text": [
      "Epoch:380 Time:59.1290, loss_train:0.320998, loss_test:0.303117\n",
      "          lr: 0.0005 err_test 0.011853461153805256\n"
     ]
    },
    {
     "name": "stderr",
     "output_type": "stream",
     "text": [
      " 39%|██████████████████████████████▉                                                | 391/1000 [01:00<01:29,  6.80it/s]"
     ]
    },
    {
     "name": "stdout",
     "output_type": "stream",
     "text": [
      "Epoch:390 Time:60.5996, loss_train:0.331456, loss_test:0.289728\n",
      "          lr: 0.0005 err_test 0.01113452110439539\n"
     ]
    },
    {
     "name": "stderr",
     "output_type": "stream",
     "text": [
      " 40%|███████████████████████████████▌                                               | 400/1000 [01:02<01:27,  6.88it/s]"
     ]
    },
    {
     "name": "stdout",
     "output_type": "stream",
     "text": [
      "Epoch:400 Time:62.0563, loss_train:0.302154, loss_test:0.340362\n",
      "          lr: 0.00025 err_test 0.013143558986485004\n"
     ]
    },
    {
     "name": "stderr",
     "output_type": "stream",
     "text": [
      " 41%|████████████████████████████████▍                                              | 410/1000 [01:03<01:43,  5.70it/s]"
     ]
    },
    {
     "name": "stdout",
     "output_type": "stream",
     "text": [
      "Epoch:410 Time:63.8779, loss_train:0.168028, loss_test:0.172853\n",
      "          lr: 0.00025 err_test 0.0066518099047243595\n"
     ]
    },
    {
     "name": "stderr",
     "output_type": "stream",
     "text": [
      " 42%|█████████████████████████████████▎                                             | 421/1000 [01:05<01:36,  5.97it/s]"
     ]
    },
    {
     "name": "stdout",
     "output_type": "stream",
     "text": [
      "Epoch:420 Time:65.4965, loss_train:0.156750, loss_test:0.137928\n",
      "          lr: 0.00025 err_test 0.005305740982294083\n"
     ]
    },
    {
     "name": "stderr",
     "output_type": "stream",
     "text": [
      " 43%|██████████████████████████████████                                             | 431/1000 [01:07<01:26,  6.59it/s]"
     ]
    },
    {
     "name": "stdout",
     "output_type": "stream",
     "text": [
      "Epoch:430 Time:67.0449, loss_train:0.149540, loss_test:0.151712\n",
      "          lr: 0.00025 err_test 0.005786434281617403\n"
     ]
    },
    {
     "name": "stderr",
     "output_type": "stream",
     "text": [
      " 44%|██████████████████████████████████▊                                            | 441/1000 [01:08<01:21,  6.83it/s]"
     ]
    },
    {
     "name": "stdout",
     "output_type": "stream",
     "text": [
      "Epoch:440 Time:68.5057, loss_train:0.162256, loss_test:0.143596\n",
      "          lr: 0.00025 err_test 0.005522705148905516\n"
     ]
    },
    {
     "name": "stderr",
     "output_type": "stream",
     "text": [
      " 45%|███████████████████████████████████▋                                           | 451/1000 [01:10<01:20,  6.85it/s]"
     ]
    },
    {
     "name": "stdout",
     "output_type": "stream",
     "text": [
      "Epoch:450 Time:69.9644, loss_train:0.189714, loss_test:0.197853\n",
      "          lr: 0.00025 err_test 0.007577856071293354\n"
     ]
    },
    {
     "name": "stderr",
     "output_type": "stream",
     "text": [
      " 46%|████████████████████████████████████▍                                          | 461/1000 [01:11<01:18,  6.86it/s]"
     ]
    },
    {
     "name": "stdout",
     "output_type": "stream",
     "text": [
      "Epoch:460 Time:71.4242, loss_train:0.162542, loss_test:0.160069\n",
      "          lr: 0.00025 err_test 0.006177495699375868\n"
     ]
    },
    {
     "name": "stderr",
     "output_type": "stream",
     "text": [
      " 47%|█████████████████████████████████████▏                                         | 471/1000 [01:13<01:17,  6.85it/s]"
     ]
    },
    {
     "name": "stdout",
     "output_type": "stream",
     "text": [
      "Epoch:470 Time:72.8851, loss_train:0.175631, loss_test:0.156229\n",
      "          lr: 0.00025 err_test 0.006087380927056074\n"
     ]
    },
    {
     "name": "stderr",
     "output_type": "stream",
     "text": [
      " 48%|█████████████████████████████████████▉                                         | 481/1000 [01:14<01:15,  6.86it/s]"
     ]
    },
    {
     "name": "stdout",
     "output_type": "stream",
     "text": [
      "Epoch:480 Time:74.3388, loss_train:0.160401, loss_test:0.203572\n",
      "          lr: 0.00025 err_test 0.007749001961201429\n"
     ]
    },
    {
     "name": "stderr",
     "output_type": "stream",
     "text": [
      " 49%|██████████████████████████████████████▊                                        | 491/1000 [01:15<01:14,  6.83it/s]"
     ]
    },
    {
     "name": "stdout",
     "output_type": "stream",
     "text": [
      "Epoch:490 Time:75.8036, loss_train:0.167712, loss_test:0.140441\n",
      "          lr: 0.00025 err_test 0.005457237362861633\n"
     ]
    },
    {
     "name": "stderr",
     "output_type": "stream",
     "text": [
      " 50%|███████████████████████████████████████▌                                       | 501/1000 [01:17<01:12,  6.87it/s]"
     ]
    },
    {
     "name": "stdout",
     "output_type": "stream",
     "text": [
      "Epoch:500 Time:77.2604, loss_train:0.280001, loss_test:0.328890\n",
      "          lr: 0.00025 err_test 0.012502788566052914\n"
     ]
    },
    {
     "name": "stderr",
     "output_type": "stream",
     "text": [
      " 51%|████████████████████████████████████████▎                                      | 511/1000 [01:18<01:11,  6.85it/s]"
     ]
    },
    {
     "name": "stdout",
     "output_type": "stream",
     "text": [
      "Epoch:510 Time:78.7201, loss_train:0.173683, loss_test:0.204328\n",
      "          lr: 0.00025 err_test 0.00792947132140398\n"
     ]
    },
    {
     "name": "stderr",
     "output_type": "stream",
     "text": [
      " 52%|█████████████████████████████████████████▏                                     | 521/1000 [01:20<01:09,  6.86it/s]"
     ]
    },
    {
     "name": "stdout",
     "output_type": "stream",
     "text": [
      "Epoch:520 Time:80.1800, loss_train:0.140228, loss_test:0.146031\n",
      "          lr: 0.00025 err_test 0.005674377083778381\n"
     ]
    },
    {
     "name": "stderr",
     "output_type": "stream",
     "text": [
      " 53%|█████████████████████████████████████████▉                                     | 531/1000 [01:21<01:08,  6.86it/s]"
     ]
    },
    {
     "name": "stdout",
     "output_type": "stream",
     "text": [
      "Epoch:530 Time:81.6387, loss_train:0.146111, loss_test:0.131196\n",
      "          lr: 0.00025 err_test 0.00511529017239809\n"
     ]
    },
    {
     "name": "stderr",
     "output_type": "stream",
     "text": [
      " 54%|██████████████████████████████████████████▋                                    | 541/1000 [01:23<01:07,  6.85it/s]"
     ]
    },
    {
     "name": "stdout",
     "output_type": "stream",
     "text": [
      "Epoch:540 Time:83.0975, loss_train:0.166694, loss_test:0.158746\n",
      "          lr: 0.00025 err_test 0.0061252787709236145\n"
     ]
    },
    {
     "name": "stderr",
     "output_type": "stream",
     "text": [
      " 55%|███████████████████████████████████████████▌                                   | 551/1000 [01:24<01:07,  6.70it/s]"
     ]
    },
    {
     "name": "stdout",
     "output_type": "stream",
     "text": [
      "Epoch:550 Time:84.6424, loss_train:0.155382, loss_test:0.135850\n",
      "          lr: 0.00025 err_test 0.0052380007691681385\n"
     ]
    },
    {
     "name": "stderr",
     "output_type": "stream",
     "text": [
      " 56%|████████████████████████████████████████████▎                                  | 561/1000 [01:26<01:04,  6.85it/s]"
     ]
    },
    {
     "name": "stdout",
     "output_type": "stream",
     "text": [
      "Epoch:560 Time:86.1042, loss_train:0.199156, loss_test:0.147510\n",
      "          lr: 0.00025 err_test 0.005714701022952795\n"
     ]
    },
    {
     "name": "stderr",
     "output_type": "stream",
     "text": [
      " 57%|█████████████████████████████████████████████                                  | 571/1000 [01:27<01:02,  6.86it/s]"
     ]
    },
    {
     "name": "stdout",
     "output_type": "stream",
     "text": [
      "Epoch:570 Time:87.5650, loss_train:0.151227, loss_test:0.142364\n",
      "          lr: 0.00025 err_test 0.005598820745944977\n"
     ]
    },
    {
     "name": "stderr",
     "output_type": "stream",
     "text": [
      " 58%|█████████████████████████████████████████████▉                                 | 581/1000 [01:29<01:00,  6.88it/s]"
     ]
    },
    {
     "name": "stdout",
     "output_type": "stream",
     "text": [
      "Epoch:580 Time:89.0238, loss_train:0.176216, loss_test:0.155202\n",
      "          lr: 0.00025 err_test 0.005948415491729975\n"
     ]
    },
    {
     "name": "stderr",
     "output_type": "stream",
     "text": [
      " 59%|██████████████████████████████████████████████▋                                | 591/1000 [01:30<01:03,  6.45it/s]"
     ]
    },
    {
     "name": "stdout",
     "output_type": "stream",
     "text": [
      "Epoch:590 Time:90.5657, loss_train:0.145856, loss_test:0.132409\n",
      "          lr: 0.00025 err_test 0.00509002897888422\n"
     ]
    },
    {
     "name": "stderr",
     "output_type": "stream",
     "text": [
      " 60%|███████████████████████████████████████████████▍                               | 600/1000 [01:32<00:58,  6.86it/s]"
     ]
    },
    {
     "name": "stdout",
     "output_type": "stream",
     "text": [
      "Epoch:600 Time:92.0235, loss_train:0.168213, loss_test:0.142870\n",
      "          lr: 0.000125 err_test 0.005461019929498434\n"
     ]
    },
    {
     "name": "stderr",
     "output_type": "stream",
     "text": [
      " 61%|████████████████████████████████████████████████▎                              | 611/1000 [01:34<01:00,  6.38it/s]"
     ]
    },
    {
     "name": "stdout",
     "output_type": "stream",
     "text": [
      "Epoch:610 Time:93.9161, loss_train:0.085017, loss_test:0.084150\n",
      "          lr: 0.000125 err_test 0.003235396696254611\n"
     ]
    },
    {
     "name": "stderr",
     "output_type": "stream",
     "text": [
      " 62%|█████████████████████████████████████████████████                              | 621/1000 [01:35<00:56,  6.73it/s]"
     ]
    },
    {
     "name": "stdout",
     "output_type": "stream",
     "text": [
      "Epoch:620 Time:95.4602, loss_train:0.101165, loss_test:0.092561\n",
      "          lr: 0.000125 err_test 0.00353354774415493\n"
     ]
    },
    {
     "name": "stderr",
     "output_type": "stream",
     "text": [
      " 63%|█████████████████████████████████████████████████▊                             | 631/1000 [01:37<00:53,  6.85it/s]"
     ]
    },
    {
     "name": "stdout",
     "output_type": "stream",
     "text": [
      "Epoch:630 Time:96.9219, loss_train:0.083434, loss_test:0.082082\n",
      "          lr: 0.000125 err_test 0.0031338490080088377\n"
     ]
    },
    {
     "name": "stderr",
     "output_type": "stream",
     "text": [
      " 64%|██████████████████████████████████████████████████▋                            | 641/1000 [01:38<00:52,  6.88it/s]"
     ]
    },
    {
     "name": "stdout",
     "output_type": "stream",
     "text": [
      "Epoch:640 Time:98.3766, loss_train:0.084739, loss_test:0.082127\n",
      "          lr: 0.000125 err_test 0.0031574585009366274\n"
     ]
    },
    {
     "name": "stderr",
     "output_type": "stream",
     "text": [
      " 65%|███████████████████████████████████████████████████▍                           | 651/1000 [01:39<00:50,  6.85it/s]"
     ]
    },
    {
     "name": "stdout",
     "output_type": "stream",
     "text": [
      "Epoch:650 Time:99.8344, loss_train:0.093172, loss_test:0.116550\n",
      "          lr: 0.000125 err_test 0.0044697546400129795\n"
     ]
    },
    {
     "name": "stderr",
     "output_type": "stream",
     "text": [
      " 66%|████████████████████████████████████████████████████▏                          | 661/1000 [01:41<00:49,  6.87it/s]"
     ]
    },
    {
     "name": "stdout",
     "output_type": "stream",
     "text": [
      "Epoch:660 Time:101.2922, loss_train:0.085303, loss_test:0.082952\n",
      "          lr: 0.000125 err_test 0.0031778686679899693\n"
     ]
    },
    {
     "name": "stderr",
     "output_type": "stream",
     "text": [
      " 67%|█████████████████████████████████████████████████████                          | 671/1000 [01:42<00:48,  6.80it/s]"
     ]
    },
    {
     "name": "stdout",
     "output_type": "stream",
     "text": [
      "Epoch:670 Time:102.8382, loss_train:0.087694, loss_test:0.076730\n",
      "          lr: 0.000125 err_test 0.002939615398645401\n"
     ]
    },
    {
     "name": "stderr",
     "output_type": "stream",
     "text": [
      " 68%|█████████████████████████████████████████████████████▊                         | 681/1000 [01:44<00:46,  6.87it/s]"
     ]
    },
    {
     "name": "stdout",
     "output_type": "stream",
     "text": [
      "Epoch:680 Time:104.2980, loss_train:0.086581, loss_test:0.101557\n",
      "          lr: 0.000125 err_test 0.003910840023308992\n"
     ]
    },
    {
     "name": "stderr",
     "output_type": "stream",
     "text": [
      " 69%|██████████████████████████████████████████████████████▌                        | 691/1000 [01:45<00:45,  6.85it/s]"
     ]
    },
    {
     "name": "stdout",
     "output_type": "stream",
     "text": [
      "Epoch:690 Time:105.7557, loss_train:0.090467, loss_test:0.100714\n",
      "          lr: 0.000125 err_test 0.003870320273563266\n"
     ]
    },
    {
     "name": "stderr",
     "output_type": "stream",
     "text": [
      " 70%|███████████████████████████████████████████████████████▍                       | 701/1000 [01:47<00:44,  6.78it/s]"
     ]
    },
    {
     "name": "stdout",
     "output_type": "stream",
     "text": [
      "Epoch:700 Time:107.2956, loss_train:0.085191, loss_test:0.074449\n",
      "          lr: 0.000125 err_test 0.0028542361687868834\n"
     ]
    },
    {
     "name": "stderr",
     "output_type": "stream",
     "text": [
      " 71%|████████████████████████████████████████████████████████▏                      | 711/1000 [01:48<00:42,  6.84it/s]"
     ]
    },
    {
     "name": "stdout",
     "output_type": "stream",
     "text": [
      "Epoch:710 Time:108.7545, loss_train:0.086789, loss_test:0.080827\n",
      "          lr: 0.000125 err_test 0.003064115298911929\n"
     ]
    },
    {
     "name": "stderr",
     "output_type": "stream",
     "text": [
      " 72%|████████████████████████████████████████████████████████▉                      | 721/1000 [01:50<00:40,  6.84it/s]"
     ]
    },
    {
     "name": "stdout",
     "output_type": "stream",
     "text": [
      "Epoch:720 Time:110.2122, loss_train:0.086632, loss_test:0.080536\n",
      "          lr: 0.000125 err_test 0.003096600528806448\n"
     ]
    },
    {
     "name": "stderr",
     "output_type": "stream",
     "text": [
      " 73%|█████████████████████████████████████████████████████████▋                     | 730/1000 [01:51<00:39,  6.84it/s]"
     ]
    },
    {
     "name": "stdout",
     "output_type": "stream",
     "text": [
      "Epoch:730 Time:111.6760, loss_train:0.085701, loss_test:0.083568\n",
      "          lr: 0.000125 err_test 0.003175899153575301\n"
     ]
    },
    {
     "name": "stderr",
     "output_type": "stream",
     "text": [
      " 74%|██████████████████████████████████████████████████████████▌                    | 741/1000 [01:53<00:38,  6.80it/s]"
     ]
    },
    {
     "name": "stdout",
     "output_type": "stream",
     "text": [
      "Epoch:740 Time:113.2260, loss_train:0.083859, loss_test:0.083725\n",
      "          lr: 0.000125 err_test 0.0031990192364901304\n"
     ]
    },
    {
     "name": "stderr",
     "output_type": "stream",
     "text": [
      " 75%|███████████████████████████████████████████████████████████▎                   | 751/1000 [01:54<00:37,  6.62it/s]"
     ]
    },
    {
     "name": "stdout",
     "output_type": "stream",
     "text": [
      "Epoch:750 Time:114.7739, loss_train:0.085622, loss_test:0.101628\n",
      "          lr: 0.000125 err_test 0.0039513795636594296\n"
     ]
    },
    {
     "name": "stderr",
     "output_type": "stream",
     "text": [
      " 76%|████████████████████████████████████████████████████████████                   | 761/1000 [01:56<00:34,  6.84it/s]"
     ]
    },
    {
     "name": "stdout",
     "output_type": "stream",
     "text": [
      "Epoch:760 Time:116.2337, loss_train:0.085573, loss_test:0.076041\n",
      "          lr: 0.000125 err_test 0.0029441381338983774\n"
     ]
    },
    {
     "name": "stderr",
     "output_type": "stream",
     "text": [
      " 77%|████████████████████████████████████████████████████████████▉                  | 771/1000 [01:57<00:34,  6.66it/s]"
     ]
    },
    {
     "name": "stdout",
     "output_type": "stream",
     "text": [
      "Epoch:770 Time:117.7787, loss_train:0.086591, loss_test:0.073537\n",
      "          lr: 0.000125 err_test 0.0028477476444095373\n"
     ]
    },
    {
     "name": "stderr",
     "output_type": "stream",
     "text": [
      " 78%|█████████████████████████████████████████████████████████████▋                 | 781/1000 [01:59<00:33,  6.46it/s]"
     ]
    },
    {
     "name": "stdout",
     "output_type": "stream",
     "text": [
      "Epoch:780 Time:119.3236, loss_train:0.080280, loss_test:0.074286\n",
      "          lr: 0.000125 err_test 0.002878359518945217\n"
     ]
    },
    {
     "name": "stderr",
     "output_type": "stream",
     "text": [
      " 79%|██████████████████████████████████████████████████████████████▍                | 791/1000 [02:00<00:26,  7.97it/s]"
     ]
    },
    {
     "name": "stdout",
     "output_type": "stream",
     "text": [
      "Epoch:790 Time:120.6729, loss_train:0.086768, loss_test:0.094335\n",
      "          lr: 0.000125 err_test 0.00363635690882802\n"
     ]
    },
    {
     "name": "stderr",
     "output_type": "stream",
     "text": [
      " 80%|███████████████████████████████████████████████████████████████▎               | 801/1000 [02:02<00:28,  6.99it/s]"
     ]
    },
    {
     "name": "stdout",
     "output_type": "stream",
     "text": [
      "Epoch:800 Time:121.8882, loss_train:0.081981, loss_test:0.085762\n",
      "          lr: 6.25e-05 err_test 0.00330647686496377\n"
     ]
    },
    {
     "name": "stderr",
     "output_type": "stream",
     "text": [
      " 81%|████████████████████████████████████████████████████████████████               | 811/1000 [02:03<00:27,  6.88it/s]"
     ]
    },
    {
     "name": "stdout",
     "output_type": "stream",
     "text": [
      "Epoch:810 Time:123.5231, loss_train:0.048154, loss_test:0.044932\n",
      "          lr: 6.25e-05 err_test 0.0017091160407289863\n"
     ]
    },
    {
     "name": "stderr",
     "output_type": "stream",
     "text": [
      " 82%|████████████████████████████████████████████████████████████████▊              | 821/1000 [02:04<00:21,  8.17it/s]"
     ]
    },
    {
     "name": "stdout",
     "output_type": "stream",
     "text": [
      "Epoch:820 Time:124.8010, loss_train:0.048844, loss_test:0.046287\n",
      "          lr: 6.25e-05 err_test 0.001767256879247725\n"
     ]
    },
    {
     "name": "stderr",
     "output_type": "stream",
     "text": [
      " 83%|█████████████████████████████████████████████████████████████████▋             | 831/1000 [02:06<00:20,  8.25it/s]"
     ]
    },
    {
     "name": "stdout",
     "output_type": "stream",
     "text": [
      "Epoch:830 Time:126.0178, loss_train:0.049796, loss_test:0.050175\n",
      "          lr: 6.25e-05 err_test 0.0019197352230548859\n"
     ]
    },
    {
     "name": "stderr",
     "output_type": "stream",
     "text": [
      " 84%|██████████████████████████████████████████████████████████████████▍            | 841/1000 [02:07<00:20,  7.91it/s]"
     ]
    },
    {
     "name": "stdout",
     "output_type": "stream",
     "text": [
      "Epoch:840 Time:127.2993, loss_train:0.051933, loss_test:0.067102\n",
      "          lr: 6.25e-05 err_test 0.0025824166368693113\n"
     ]
    },
    {
     "name": "stderr",
     "output_type": "stream",
     "text": [
      " 85%|███████████████████████████████████████████████████████████████████▏           | 851/1000 [02:08<00:18,  8.23it/s]"
     ]
    },
    {
     "name": "stdout",
     "output_type": "stream",
     "text": [
      "Epoch:850 Time:128.5128, loss_train:0.049907, loss_test:0.053446\n",
      "          lr: 6.25e-05 err_test 0.0020311344414949417\n"
     ]
    },
    {
     "name": "stderr",
     "output_type": "stream",
     "text": [
      " 86%|████████████████████████████████████████████████████████████████████           | 861/1000 [02:09<00:16,  8.26it/s]"
     ]
    },
    {
     "name": "stdout",
     "output_type": "stream",
     "text": [
      "Epoch:860 Time:129.7246, loss_train:0.048209, loss_test:0.044851\n",
      "          lr: 6.25e-05 err_test 0.001722529879771173\n"
     ]
    },
    {
     "name": "stderr",
     "output_type": "stream",
     "text": [
      " 87%|████████████████████████████████████████████████████████████████████▊          | 871/1000 [02:11<00:15,  8.26it/s]"
     ]
    },
    {
     "name": "stdout",
     "output_type": "stream",
     "text": [
      "Epoch:870 Time:130.9366, loss_train:0.048286, loss_test:0.047272\n",
      "          lr: 6.25e-05 err_test 0.001819110126234591\n"
     ]
    },
    {
     "name": "stderr",
     "output_type": "stream",
     "text": [
      " 88%|█████████████████████████████████████████████████████████████████████▌         | 881/1000 [02:12<00:16,  7.01it/s]"
     ]
    },
    {
     "name": "stdout",
     "output_type": "stream",
     "text": [
      "Epoch:880 Time:132.1498, loss_train:0.045041, loss_test:0.042499\n",
      "          lr: 6.25e-05 err_test 0.001618952490389347\n"
     ]
    },
    {
     "name": "stderr",
     "output_type": "stream",
     "text": [
      " 89%|██████████████████████████████████████████████████████████████████████▍        | 891/1000 [02:13<00:14,  7.58it/s]"
     ]
    },
    {
     "name": "stdout",
     "output_type": "stream",
     "text": [
      "Epoch:890 Time:133.5851, loss_train:0.049186, loss_test:0.067223\n",
      "          lr: 6.25e-05 err_test 0.0025814061518758535\n"
     ]
    },
    {
     "name": "stderr",
     "output_type": "stream",
     "text": [
      " 90%|███████████████████████████████████████████████████████████████████████▏       | 901/1000 [02:14<00:12,  8.24it/s]"
     ]
    },
    {
     "name": "stdout",
     "output_type": "stream",
     "text": [
      "Epoch:900 Time:134.7949, loss_train:0.048473, loss_test:0.044028\n",
      "          lr: 6.25e-05 err_test 0.0016900222981348634\n"
     ]
    },
    {
     "name": "stderr",
     "output_type": "stream",
     "text": [
      " 91%|███████████████████████████████████████████████████████████████████████▉       | 911/1000 [02:16<00:10,  8.20it/s]"
     ]
    },
    {
     "name": "stdout",
     "output_type": "stream",
     "text": [
      "Epoch:910 Time:136.0154, loss_train:0.050264, loss_test:0.047314\n",
      "          lr: 6.25e-05 err_test 0.0018169292015954852\n"
     ]
    },
    {
     "name": "stderr",
     "output_type": "stream",
     "text": [
      " 92%|████████████████████████████████████████████████████████████████████████▊      | 921/1000 [02:17<00:09,  8.24it/s]"
     ]
    },
    {
     "name": "stdout",
     "output_type": "stream",
     "text": [
      "Epoch:920 Time:137.2316, loss_train:0.049989, loss_test:0.047985\n",
      "          lr: 6.25e-05 err_test 0.0018563518533483148\n"
     ]
    },
    {
     "name": "stderr",
     "output_type": "stream",
     "text": [
      " 93%|█████████████████████████████████████████████████████████████████████████▌     | 931/1000 [02:18<00:09,  7.33it/s]"
     ]
    },
    {
     "name": "stdout",
     "output_type": "stream",
     "text": [
      "Epoch:930 Time:138.5973, loss_train:0.047555, loss_test:0.040378\n",
      "          lr: 6.25e-05 err_test 0.0015532360412180424\n"
     ]
    },
    {
     "name": "stderr",
     "output_type": "stream",
     "text": [
      " 94%|██████████████████████████████████████████████████████████████████████████▎    | 941/1000 [02:19<00:07,  8.23it/s]"
     ]
    },
    {
     "name": "stdout",
     "output_type": "stream",
     "text": [
      "Epoch:940 Time:139.8111, loss_train:0.047448, loss_test:0.068587\n",
      "          lr: 6.25e-05 err_test 0.0025912511628121138\n"
     ]
    },
    {
     "name": "stderr",
     "output_type": "stream",
     "text": [
      " 95%|███████████████████████████████████████████████████████████████████████████▏   | 951/1000 [02:21<00:05,  8.25it/s]"
     ]
    },
    {
     "name": "stdout",
     "output_type": "stream",
     "text": [
      "Epoch:950 Time:141.0260, loss_train:0.051113, loss_test:0.046669\n",
      "          lr: 6.25e-05 err_test 0.0017908308655023575\n"
     ]
    },
    {
     "name": "stderr",
     "output_type": "stream",
     "text": [
      " 96%|███████████████████████████████████████████████████████████████████████████▉   | 961/1000 [02:22<00:04,  8.24it/s]"
     ]
    },
    {
     "name": "stdout",
     "output_type": "stream",
     "text": [
      "Epoch:960 Time:142.2346, loss_train:0.044085, loss_test:0.055683\n",
      "          lr: 6.25e-05 err_test 0.002139770658686757\n"
     ]
    },
    {
     "name": "stderr",
     "output_type": "stream",
     "text": [
      " 97%|████████████████████████████████████████████████████████████████████████████▋  | 971/1000 [02:23<00:03,  8.22it/s]"
     ]
    },
    {
     "name": "stdout",
     "output_type": "stream",
     "text": [
      "Epoch:970 Time:143.4515, loss_train:0.048125, loss_test:0.069320\n",
      "          lr: 6.25e-05 err_test 0.0026388110127300024\n"
     ]
    },
    {
     "name": "stderr",
     "output_type": "stream",
     "text": [
      " 98%|█████████████████████████████████████████████████████████████████████████████▍ | 981/1000 [02:24<00:02,  8.24it/s]"
     ]
    },
    {
     "name": "stdout",
     "output_type": "stream",
     "text": [
      "Epoch:980 Time:144.6649, loss_train:0.047467, loss_test:0.044830\n",
      "          lr: 6.25e-05 err_test 0.0017144527519121766\n"
     ]
    },
    {
     "name": "stderr",
     "output_type": "stream",
     "text": [
      " 99%|██████████████████████████████████████████████████████████████████████████████▎| 991/1000 [02:26<00:01,  8.23it/s]"
     ]
    },
    {
     "name": "stdout",
     "output_type": "stream",
     "text": [
      "Epoch:990 Time:145.8830, loss_train:0.047297, loss_test:0.045449\n",
      "          lr: 6.25e-05 err_test 0.0017676529241725802\n"
     ]
    },
    {
     "name": "stderr",
     "output_type": "stream",
     "text": [
      "100%|██████████████████████████████████████████████████████████████████████████████| 1000/1000 [02:27<00:00,  6.80it/s]"
     ]
    },
    {
     "name": "stdout",
     "output_type": "stream",
     "text": [
      "Epoch:1000 Time:147.0937, loss_train:0.045637, loss_test:0.042542\n",
      "          lr: 3.125e-05 err_test 0.0016387011855840683\n",
      "The total training time is 147.1372\n"
     ]
    },
    {
     "name": "stderr",
     "output_type": "stream",
     "text": [
      "\n"
     ]
    }
   ],
   "source": [
    "# Train the model\n",
    "model_dict = {'u':model_u}\n",
    "solver.train_setup(model_dict, lr=1e-3, optimizer='Adam', scheduler_type='StepLR')\n",
    "solver.train(LossClass, ax_train, u_train, ax_test, u_test, \n",
    "             batch_size=50, epochs=1000,  epoch_show=10,\n",
    "             **{'save_path':f'saved_models/{netType}/'})"
   ]
  },
  {
   "cell_type": "markdown",
   "id": "43142c57-6b2d-4291-a6db-b81863fa60d5",
   "metadata": {},
   "source": [
    "#### (2.3.2) make prediction"
   ]
  },
  {
   "cell_type": "code",
   "execution_count": 3,
   "id": "9898eac4-204b-4f5f-b9f9-068df5a6ce3d",
   "metadata": {},
   "outputs": [
    {
     "name": "stdout",
     "output_type": "stream",
     "text": [
      "The shape of ax_norm: torch.Size([20, 29, 29, 3])\n",
      "The shape of u_test: torch.Size([20, 841, 1])\n",
      "The shape of u_pred: torch.Size([20, 841, 1])\n",
      "The shape of meshgrid: torch.Size([841, 2])\n",
      "The test loss tensor(0.0003)\n",
      "The test l2 error: tensor(0.0002)\n"
     ]
    },
    {
     "data": {
      "image/png": "[encoded data removed]",
      "text/plain": [
       "<Figure size 1200x500 with 4 Axes>"
      ]
     },
     "metadata": {},
     "output_type": "display_data"
    },
    {
     "data": {
      "image/png": "[encoded data removed]",
      "text/plain": [
       "<Figure size 700x500 with 1 Axes>"
      ]
     },
     "metadata": {},
     "output_type": "display_data"
    },
    {
     "data": {
      "image/png": "[encoded data removed]",
      "text/plain": [
       "<Figure size 700x500 with 1 Axes>"
      ]
     },
     "metadata": {},
     "output_type": "display_data"
    }
   ],
   "source": [
    "#####################################\n",
    "# Load the trained model\n",
    "#####################################\n",
    "from Solvers.FNO import FNO\n",
    "solver = FNO.Solver(device, dtype)\n",
    "model_trained = solver.loadModel(path=f'saved_models/{netType}/', name='model_fno_final')\n",
    "\n",
    "#########################################\n",
    "with torch.no_grad():\n",
    "    ax = normalizer_ax.encode(ax_test.to(device))\n",
    "    u_pred = model_trained['u'](ax)\n",
    "    u_pred = normalizer_u.decode(u_pred).detach().cpu()\n",
    "# \n",
    "u_pred = u_pred.reshape(u_pred.shape[0], -1, 1)\n",
    "u_test = u_test.reshape(u_test.shape[0], -1, 1)\n",
    "print('The shape of ax_norm:', ax.shape)\n",
    "print('The shape of u_test:', u_test.shape)\n",
    "print('The shape of u_pred:', u_pred.shape)\n",
    "print('The shape of meshgrid:', grid_test.shape)\n",
    "print('The test loss', solver.getLoss(u_pred, u_test))\n",
    "print('The test l2 error:', solver.getError(u_pred, u_test))\n",
    "inx = 0\n",
    "# # ########################################\n",
    "from Utils.PlotFigure import Plot\n",
    "Plot.show_2d_list(grid_test, [u_test[0], u_pred[0]], ['u true', 'u pred'], lb=0.)\n",
    "# show loss\n",
    "loss_saved = solver.loadLoss(path=f'saved_models/{netType}/', name='loss_fno')\n",
    "Plot.show_loss([loss_saved['loss_train'], loss_saved['loss_test']], ['loss_train', 'loss_test'])\n",
    "# # show error\n",
    "Plot.show_error([loss_saved['time']]*2, [loss_saved['l2_test']], ['l2_test'])"
   ]
  }
 ],
 "metadata": {
  "kernelspec": {
   "display_name": "Python 3 (ipykernel)",
   "language": "python",
   "name": "python3"
  },
  "language_info": {
   "codemirror_mode": {
    "name": "ipython",
    "version": 3
   },
   "file_extension": ".py",
   "mimetype": "text/x-python",
   "name": "python",
   "nbconvert_exporter": "python",
   "pygments_lexer": "ipython3",
   "version": "3.10.13"
  }
 },
 "nbformat": 4,
 "nbformat_minor": 5
}
